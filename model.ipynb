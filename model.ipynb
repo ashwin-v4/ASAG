{
 "cells": [
  {
   "cell_type": "code",
   "execution_count": 1,
   "id": "67a92887",
   "metadata": {},
   "outputs": [],
   "source": [
    "import pandas as pd\n",
    "import numpy as np\n",
    "\n",
    "import matplotlib.pyplot as plt\n",
    "import seaborn as sns\n",
    "\n",
    "from bs4 import BeautifulSoup\n",
    "import re\n",
    "\n",
    "import nltk\n",
    "from nltk.tokenize import word_tokenize\n",
    "from nltk.stem import WordNetLemmatizer"
   ]
  },
  {
   "cell_type": "code",
   "execution_count": 2,
   "id": "c7117313",
   "metadata": {},
   "outputs": [],
   "source": [
    "train = pd.read_csv(\"data/Train.csv\")\n",
    "val = pd.read_csv(\"data/Val.csv\")\n",
    "test = pd.read_csv(\"data/Test.csv\")\n",
    "test_ud = pd.read_csv(\"data/Test UD.csv\")"
   ]
  },
  {
   "cell_type": "markdown",
   "id": "3c2de1d6",
   "metadata": {},
   "source": [
    "# Preprocessing"
   ]
  },
  {
   "cell_type": "markdown",
   "id": "56b771cd",
   "metadata": {},
   "source": [
    "<b>Preprocessing to be done</b>\n",
    "\n",
    "- Extra space\n",
    "- br or any html tags\n",
    "- irregularities\n",
    "- make all in lowercase\n",
    "- lemmatization or stemming\n",
    "- tokenization"
   ]
  },
  {
   "cell_type": "markdown",
   "id": "4d42277e",
   "metadata": {},
   "source": [
    "Stopword removal, punctuation removal, number removal are not needed"
   ]
  },
  {
   "cell_type": "code",
   "execution_count": 12,
   "id": "9ead9d15",
   "metadata": {},
   "outputs": [],
   "source": [
    "def clean_text(text):\n",
    "    \n",
    "    text = str(text).lower().strip()\n",
    "    text = re.sub(r\"\\s+\", \" \", text)\n",
    "\n",
    "    if re.fullmatch(r\"[.?!]+\", text):\n",
    "        return text\n",
    "    \n",
    "    text = re.sub(r\"[.?!]+$\", \"\", text)\n",
    "\n",
    "    return text"
   ]
  },
  {
   "cell_type": "code",
   "execution_count": 13,
   "id": "3ccf5f45",
   "metadata": {},
   "outputs": [],
   "source": [
    "train[\"reference_answer\"] = train[\"reference_ans\"].apply(clean_text)\n",
    "train[\"student_answer\"] = train[\"student_ans\"].apply(clean_text)"
   ]
  },
  {
   "cell_type": "code",
   "execution_count": 15,
   "id": "1cbceef1",
   "metadata": {},
   "outputs": [],
   "source": [
    "train.to_csv(\"C:/Users/91741/Downloads/train_mod.csv\", index=False)"
   ]
  },
  {
   "cell_type": "markdown",
   "id": "147eb7f4",
   "metadata": {},
   "source": [
    "# Modeling"
   ]
  },
  {
   "cell_type": "code",
   "execution_count": null,
   "id": "2ed95e4e",
   "metadata": {},
   "outputs": [],
   "source": []
  }
 ],
 "metadata": {
  "kernelspec": {
   "display_name": "Python (pytorch_vision)",
   "language": "python",
   "name": "pytorch_vision"
  },
  "language_info": {
   "codemirror_mode": {
    "name": "ipython",
    "version": 3
   },
   "file_extension": ".py",
   "mimetype": "text/x-python",
   "name": "python",
   "nbconvert_exporter": "python",
   "pygments_lexer": "ipython3",
   "version": "3.12.3"
  }
 },
 "nbformat": 4,
 "nbformat_minor": 5
}
