{
 "cells": [
  {
   "cell_type": "code",
   "execution_count": 2,
   "id": "cd422069",
   "metadata": {},
   "outputs": [],
   "source": [
    "import numpy as np\n",
    "import pandas as pd\n",
    "\n",
    "import matplotlib.pyplot as plt\n",
    "import seaborn as sns"
   ]
  },
  {
   "cell_type": "code",
   "execution_count": 3,
   "id": "3fffe1e9",
   "metadata": {},
   "outputs": [],
   "source": [
    "unt = pd.read_csv(\"csv/UNT.csv\")\n",
    "beetle_train = pd.read_csv(\"csv/beetle/train_beetle.csv\")\n",
    "sc_train = pd.read_csv(\"csv/SciEntsBank/train_sc.csv\")"
   ]
  },
  {
   "cell_type": "code",
   "execution_count": null,
   "id": "f33b594d",
   "metadata": {},
   "outputs": [],
   "source": [
    "unt = unt.rename(columns = {\"number\":\"id\", \"Questions\":\"question\", \"Answers\":\"reference_ans\", \"Texts\":\"student_ans\", \"Score\":\"score\"})\n",
    "\n",
    "beetle_train = beetle_train.rename(columns = {\"reference_answer\":\"reference_ans\", \"student_answer\":\"student_ans\", \"label\":\"score\"})\n",
    "\n",
    "sc_train = sc_train.rename(columns = {\"reference_answer\":\"reference_ans\", \"student_answer\":\"student_ans\", \"label\":\"score\"})"
   ]
  },
  {
   "cell_type": "code",
   "execution_count": 14,
   "id": "53c2653f",
   "metadata": {},
   "outputs": [
    {
     "name": "stdout",
     "output_type": "stream",
     "text": [
      "Index(['id', 'question', 'reference_ans', 'student_ans', 'score'], dtype='object')\n",
      "Index(['id', 'question', 'reference_ans', 'student_ans', 'score'], dtype='object')\n",
      "Index(['id', 'question', 'reference_ans', 'student_ans', 'score'], dtype='object')\n"
     ]
    }
   ],
   "source": [
    "print(unt.columns)\n",
    "print(beetle_train.columns)\n",
    "print(sc_train.columns)"
   ]
  },
  {
   "cell_type": "code",
   "execution_count": 19,
   "id": "bc625c03",
   "metadata": {},
   "outputs": [
    {
     "name": "stdout",
     "output_type": "stream",
     "text": [
      "<class 'pandas.core.frame.DataFrame'>\n",
      "RangeIndex: 2353 entries, 0 to 2352\n",
      "Data columns (total 5 columns):\n",
      " #   Column         Non-Null Count  Dtype  \n",
      "---  ------         --------------  -----  \n",
      " 0   id             2353 non-null   float64\n",
      " 1   question       2353 non-null   object \n",
      " 2   reference_ans  2353 non-null   object \n",
      " 3   student_ans    2353 non-null   object \n",
      " 4   score          2353 non-null   float64\n",
      "dtypes: float64(2), object(3)\n",
      "memory usage: 92.0+ KB\n"
     ]
    }
   ],
   "source": [
    "unt.info()"
   ]
  },
  {
   "cell_type": "code",
   "execution_count": 15,
   "id": "6dbd93ba",
   "metadata": {},
   "outputs": [
    {
     "name": "stdout",
     "output_type": "stream",
     "text": [
      "<class 'pandas.core.frame.DataFrame'>\n",
      "RangeIndex: 3941 entries, 0 to 3940\n",
      "Data columns (total 5 columns):\n",
      " #   Column         Non-Null Count  Dtype \n",
      "---  ------         --------------  ----- \n",
      " 0   id             3941 non-null   object\n",
      " 1   question       3941 non-null   object\n",
      " 2   reference_ans  3941 non-null   object\n",
      " 3   student_ans    3941 non-null   object\n",
      " 4   score          3941 non-null   int64 \n",
      "dtypes: int64(1), object(4)\n",
      "memory usage: 154.1+ KB\n"
     ]
    }
   ],
   "source": [
    "beetle_train.info()"
   ]
  },
  {
   "cell_type": "code",
   "execution_count": 16,
   "id": "9fd03349",
   "metadata": {},
   "outputs": [
    {
     "name": "stdout",
     "output_type": "stream",
     "text": [
      "<class 'pandas.core.frame.DataFrame'>\n",
      "RangeIndex: 4969 entries, 0 to 4968\n",
      "Data columns (total 5 columns):\n",
      " #   Column         Non-Null Count  Dtype \n",
      "---  ------         --------------  ----- \n",
      " 0   id             4969 non-null   object\n",
      " 1   question       4969 non-null   object\n",
      " 2   reference_ans  4969 non-null   object\n",
      " 3   student_ans    4969 non-null   object\n",
      " 4   score          4969 non-null   int64 \n",
      "dtypes: int64(1), object(4)\n",
      "memory usage: 194.2+ KB\n"
     ]
    }
   ],
   "source": [
    "sc_train.info()"
   ]
  },
  {
   "cell_type": "code",
   "execution_count": 18,
   "id": "3529ea20",
   "metadata": {},
   "outputs": [
    {
     "name": "stdout",
     "output_type": "stream",
     "text": [
      "[3.5   5.    4.    3.    2.    2.5   4.5   1.5   1.    0.    0.5   4.125\n",
      " 3.75  1.75  2.25  3.625 3.25  4.75 ]\n",
      "[1 0 2 4 3]\n",
      "[3 0 2 4 1]\n"
     ]
    }
   ],
   "source": [
    "print(unt.score.unique())\n",
    "print(beetle_train.score.unique())\n",
    "print(sc_train.score.unique())"
   ]
  },
  {
   "cell_type": "code",
   "execution_count": null,
   "id": "34d5bc56",
   "metadata": {},
   "outputs": [],
   "source": []
  }
 ],
 "metadata": {
  "kernelspec": {
   "display_name": "Python (pytorch_vision)",
   "language": "python",
   "name": "pytorch_vision"
  },
  "language_info": {
   "codemirror_mode": {
    "name": "ipython",
    "version": 3
   },
   "file_extension": ".py",
   "mimetype": "text/x-python",
   "name": "python",
   "nbconvert_exporter": "python",
   "pygments_lexer": "ipython3",
   "version": "3.12.3"
  }
 },
 "nbformat": 4,
 "nbformat_minor": 5
}
