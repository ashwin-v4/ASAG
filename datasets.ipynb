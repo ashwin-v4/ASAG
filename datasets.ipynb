{
 "cells": [
  {
   "cell_type": "code",
   "execution_count": 36,
   "id": "8e29b62c",
   "metadata": {},
   "outputs": [],
   "source": [
    "import numpy as np\n",
    "import pandas as pd\n",
    "\n",
    "import matplotlib.pyplot as plt\n",
    "import seaborn as sns"
   ]
  },
  {
   "cell_type": "markdown",
   "id": "4bf1dd56",
   "metadata": {},
   "source": [
    "<b>There are 3 datasets - UNT, Beetle and SciEntsBank for ASAG.</b>  \n",
    "- UNT is available in csv as 1 file\n",
    "- Beetle has 4 files in parquet\n",
    "- SciEntsBank has 4 files in parquet"
   ]
  },
  {
   "cell_type": "markdown",
   "id": "1410f05e",
   "metadata": {},
   "source": [
    "# Beetle"
   ]
  },
  {
   "cell_type": "markdown",
   "id": "6d4ff077",
   "metadata": {},
   "source": [
    "- Reference\n",
    "- train\n",
    "- test unseen answers\n",
    "- test unseen questions"
   ]
  },
  {
   "cell_type": "markdown",
   "id": "5d5a9430",
   "metadata": {},
   "source": [
    "### Train Dataset"
   ]
  },
  {
   "cell_type": "code",
   "execution_count": 37,
   "id": "078e2a36",
   "metadata": {},
   "outputs": [],
   "source": [
    "train_beetle = pd.read_parquet(\"Data/Beetle/data/train-00001.parquet\")\n",
    "train_beetle.to_csv(\"csv/beetle/train_beetle.csv\", index=False)"
   ]
  },
  {
   "cell_type": "code",
   "execution_count": 38,
   "id": "1bb41cb5",
   "metadata": {},
   "outputs": [
    {
     "data": {
      "text/html": [
       "<div>\n",
       "<style scoped>\n",
       "    .dataframe tbody tr th:only-of-type {\n",
       "        vertical-align: middle;\n",
       "    }\n",
       "\n",
       "    .dataframe tbody tr th {\n",
       "        vertical-align: top;\n",
       "    }\n",
       "\n",
       "    .dataframe thead th {\n",
       "        text-align: right;\n",
       "    }\n",
       "</style>\n",
       "<table border=\"1\" class=\"dataframe\">\n",
       "  <thead>\n",
       "    <tr style=\"text-align: right;\">\n",
       "      <th></th>\n",
       "      <th>id</th>\n",
       "      <th>question</th>\n",
       "      <th>reference_answer</th>\n",
       "      <th>student_answer</th>\n",
       "      <th>label</th>\n",
       "    </tr>\n",
       "  </thead>\n",
       "  <tbody>\n",
       "    <tr>\n",
       "      <th>0</th>\n",
       "      <td>FF.Q1.SBJ10.L1.SA207</td>\n",
       "      <td>Explain why you got a voltage reading of 1.5 f...</td>\n",
       "      <td>Terminal 1 and the positive terminal are separ...</td>\n",
       "      <td>because terminal one and the positive terminal...</td>\n",
       "      <td>1</td>\n",
       "    </tr>\n",
       "    <tr>\n",
       "      <th>1</th>\n",
       "      <td>FF.Q1.SBJ10.L1.SA208</td>\n",
       "      <td>Explain why you got a voltage reading of 1.5 f...</td>\n",
       "      <td>Terminal 1 and the positive terminal are separ...</td>\n",
       "      <td>because terminal one is connected to the posit...</td>\n",
       "      <td>1</td>\n",
       "    </tr>\n",
       "    <tr>\n",
       "      <th>2</th>\n",
       "      <td>FF.Q1.SBJ10.L1.SA209</td>\n",
       "      <td>Explain why you got a voltage reading of 1.5 f...</td>\n",
       "      <td>Terminal 1 and the positive terminal are separ...</td>\n",
       "      <td>because terminal one and the positive battery ...</td>\n",
       "      <td>1</td>\n",
       "    </tr>\n",
       "    <tr>\n",
       "      <th>3</th>\n",
       "      <td>FF.Q1.SBJ10.L1.SA210</td>\n",
       "      <td>Explain why you got a voltage reading of 1.5 f...</td>\n",
       "      <td>Terminal 1 and the positive terminal are separ...</td>\n",
       "      <td>because there is a gap between terminal one an...</td>\n",
       "      <td>0</td>\n",
       "    </tr>\n",
       "    <tr>\n",
       "      <th>4</th>\n",
       "      <td>FF.Q1.SBJ11.L1.SA213</td>\n",
       "      <td>Explain why you got a voltage reading of 1.5 f...</td>\n",
       "      <td>Terminal 1 and the positive terminal are separ...</td>\n",
       "      <td>termianl 1 is not connected to the positive ba...</td>\n",
       "      <td>0</td>\n",
       "    </tr>\n",
       "  </tbody>\n",
       "</table>\n",
       "</div>"
      ],
      "text/plain": [
       "                     id                                           question  \\\n",
       "0  FF.Q1.SBJ10.L1.SA207  Explain why you got a voltage reading of 1.5 f...   \n",
       "1  FF.Q1.SBJ10.L1.SA208  Explain why you got a voltage reading of 1.5 f...   \n",
       "2  FF.Q1.SBJ10.L1.SA209  Explain why you got a voltage reading of 1.5 f...   \n",
       "3  FF.Q1.SBJ10.L1.SA210  Explain why you got a voltage reading of 1.5 f...   \n",
       "4  FF.Q1.SBJ11.L1.SA213  Explain why you got a voltage reading of 1.5 f...   \n",
       "\n",
       "                                    reference_answer  \\\n",
       "0  Terminal 1 and the positive terminal are separ...   \n",
       "1  Terminal 1 and the positive terminal are separ...   \n",
       "2  Terminal 1 and the positive terminal are separ...   \n",
       "3  Terminal 1 and the positive terminal are separ...   \n",
       "4  Terminal 1 and the positive terminal are separ...   \n",
       "\n",
       "                                      student_answer  label  \n",
       "0  because terminal one and the positive terminal...      1  \n",
       "1  because terminal one is connected to the posit...      1  \n",
       "2  because terminal one and the positive battery ...      1  \n",
       "3  because there is a gap between terminal one an...      0  \n",
       "4  termianl 1 is not connected to the positive ba...      0  "
      ]
     },
     "execution_count": 38,
     "metadata": {},
     "output_type": "execute_result"
    }
   ],
   "source": [
    "train_beetle.head()"
   ]
  },
  {
   "cell_type": "code",
   "execution_count": 39,
   "id": "6e641348",
   "metadata": {},
   "outputs": [
    {
     "name": "stdout",
     "output_type": "stream",
     "text": [
      "<class 'pandas.core.frame.DataFrame'>\n",
      "RangeIndex: 3941 entries, 0 to 3940\n",
      "Data columns (total 5 columns):\n",
      " #   Column            Non-Null Count  Dtype \n",
      "---  ------            --------------  ----- \n",
      " 0   id                3941 non-null   object\n",
      " 1   question          3941 non-null   object\n",
      " 2   reference_answer  3941 non-null   object\n",
      " 3   student_answer    3941 non-null   object\n",
      " 4   label             3941 non-null   int64 \n",
      "dtypes: int64(1), object(4)\n",
      "memory usage: 154.1+ KB\n"
     ]
    }
   ],
   "source": [
    "train_beetle.info()"
   ]
  },
  {
   "cell_type": "code",
   "execution_count": 40,
   "id": "0d556ad6",
   "metadata": {},
   "outputs": [
    {
     "name": "stdout",
     "output_type": "stream",
     "text": [
      "id                  0\n",
      "question            0\n",
      "reference_answer    0\n",
      "student_answer      0\n",
      "label               0\n",
      "dtype: int64\n"
     ]
    },
    {
     "data": {
      "text/plain": [
       "0"
      ]
     },
     "execution_count": 40,
     "metadata": {},
     "output_type": "execute_result"
    }
   ],
   "source": [
    "print(train_beetle.isnull().sum())\n",
    "train_beetle.duplicated().sum()"
   ]
  },
  {
   "cell_type": "markdown",
   "id": "05e77206",
   "metadata": {},
   "source": [
    "### Unseen Answers Test Dataset"
   ]
  },
  {
   "cell_type": "code",
   "execution_count": 41,
   "id": "65b0d3f7",
   "metadata": {},
   "outputs": [],
   "source": [
    "test_ua = pd.read_parquet(\"Data/Beetle/data/test-ua-00001.parquet\")\n",
    "test_ua.to_csv(\"csv/beetle/test_ua.csv\", index=False)"
   ]
  },
  {
   "cell_type": "code",
   "execution_count": 42,
   "id": "603805ca",
   "metadata": {},
   "outputs": [
    {
     "data": {
      "text/html": [
       "<div>\n",
       "<style scoped>\n",
       "    .dataframe tbody tr th:only-of-type {\n",
       "        vertical-align: middle;\n",
       "    }\n",
       "\n",
       "    .dataframe tbody tr th {\n",
       "        vertical-align: top;\n",
       "    }\n",
       "\n",
       "    .dataframe thead th {\n",
       "        text-align: right;\n",
       "    }\n",
       "</style>\n",
       "<table border=\"1\" class=\"dataframe\">\n",
       "  <thead>\n",
       "    <tr style=\"text-align: right;\">\n",
       "      <th></th>\n",
       "      <th>id</th>\n",
       "      <th>question</th>\n",
       "      <th>reference_answer</th>\n",
       "      <th>student_answer</th>\n",
       "      <th>label</th>\n",
       "    </tr>\n",
       "  </thead>\n",
       "  <tbody>\n",
       "    <tr>\n",
       "      <th>0</th>\n",
       "      <td>FF.Q1.SBJ12.L1.SA183</td>\n",
       "      <td>Explain why you got a voltage reading of 1.5 f...</td>\n",
       "      <td>Terminal 1 and the positive terminal are separ...</td>\n",
       "      <td>The positive battery terminal is separated by ...</td>\n",
       "      <td>0</td>\n",
       "    </tr>\n",
       "    <tr>\n",
       "      <th>1</th>\n",
       "      <td>FF.Q1.SBJ26.L1.SA224</td>\n",
       "      <td>Explain why you got a voltage reading of 1.5 f...</td>\n",
       "      <td>Terminal 1 and the positive terminal are separ...</td>\n",
       "      <td>terminal one was positive</td>\n",
       "      <td>1</td>\n",
       "    </tr>\n",
       "    <tr>\n",
       "      <th>2</th>\n",
       "      <td>FF.Q1.SBJ26.L1.SA225</td>\n",
       "      <td>Explain why you got a voltage reading of 1.5 f...</td>\n",
       "      <td>Terminal 1 and the positive terminal are separ...</td>\n",
       "      <td>terminal 1 is positive</td>\n",
       "      <td>1</td>\n",
       "    </tr>\n",
       "    <tr>\n",
       "      <th>3</th>\n",
       "      <td>FF.Q1.SBJ27.L1.SA205</td>\n",
       "      <td>Explain why you got a voltage reading of 1.5 f...</td>\n",
       "      <td>Terminal 1 and the positive terminal are separ...</td>\n",
       "      <td>i have absolutely no idea</td>\n",
       "      <td>4</td>\n",
       "    </tr>\n",
       "    <tr>\n",
       "      <th>4</th>\n",
       "      <td>FF.Q1.SBJ35.L1.SA207</td>\n",
       "      <td>Explain why you got a voltage reading of 1.5 f...</td>\n",
       "      <td>Terminal 1 and the positive terminal are separ...</td>\n",
       "      <td>the terminal is separated from the positive ba...</td>\n",
       "      <td>0</td>\n",
       "    </tr>\n",
       "  </tbody>\n",
       "</table>\n",
       "</div>"
      ],
      "text/plain": [
       "                     id                                           question  \\\n",
       "0  FF.Q1.SBJ12.L1.SA183  Explain why you got a voltage reading of 1.5 f...   \n",
       "1  FF.Q1.SBJ26.L1.SA224  Explain why you got a voltage reading of 1.5 f...   \n",
       "2  FF.Q1.SBJ26.L1.SA225  Explain why you got a voltage reading of 1.5 f...   \n",
       "3  FF.Q1.SBJ27.L1.SA205  Explain why you got a voltage reading of 1.5 f...   \n",
       "4  FF.Q1.SBJ35.L1.SA207  Explain why you got a voltage reading of 1.5 f...   \n",
       "\n",
       "                                    reference_answer  \\\n",
       "0  Terminal 1 and the positive terminal are separ...   \n",
       "1  Terminal 1 and the positive terminal are separ...   \n",
       "2  Terminal 1 and the positive terminal are separ...   \n",
       "3  Terminal 1 and the positive terminal are separ...   \n",
       "4  Terminal 1 and the positive terminal are separ...   \n",
       "\n",
       "                                      student_answer  label  \n",
       "0  The positive battery terminal is separated by ...      0  \n",
       "1                          terminal one was positive      1  \n",
       "2                             terminal 1 is positive      1  \n",
       "3                          i have absolutely no idea      4  \n",
       "4  the terminal is separated from the positive ba...      0  "
      ]
     },
     "execution_count": 42,
     "metadata": {},
     "output_type": "execute_result"
    }
   ],
   "source": [
    "test_ua.head()"
   ]
  },
  {
   "cell_type": "code",
   "execution_count": 43,
   "id": "e365bb4e",
   "metadata": {},
   "outputs": [
    {
     "name": "stdout",
     "output_type": "stream",
     "text": [
      "<class 'pandas.core.frame.DataFrame'>\n",
      "RangeIndex: 439 entries, 0 to 438\n",
      "Data columns (total 5 columns):\n",
      " #   Column            Non-Null Count  Dtype \n",
      "---  ------            --------------  ----- \n",
      " 0   id                439 non-null    object\n",
      " 1   question          439 non-null    object\n",
      " 2   reference_answer  439 non-null    object\n",
      " 3   student_answer    439 non-null    object\n",
      " 4   label             439 non-null    int64 \n",
      "dtypes: int64(1), object(4)\n",
      "memory usage: 17.3+ KB\n"
     ]
    }
   ],
   "source": [
    "test_ua.info()"
   ]
  },
  {
   "cell_type": "code",
   "execution_count": 44,
   "id": "39809836",
   "metadata": {},
   "outputs": [
    {
     "name": "stdout",
     "output_type": "stream",
     "text": [
      "id                  0\n",
      "question            0\n",
      "reference_answer    0\n",
      "student_answer      0\n",
      "label               0\n",
      "dtype: int64\n"
     ]
    },
    {
     "data": {
      "text/plain": [
       "0"
      ]
     },
     "execution_count": 44,
     "metadata": {},
     "output_type": "execute_result"
    }
   ],
   "source": [
    "print(test_ua.isnull().sum())\n",
    "test_ua.duplicated().sum()"
   ]
  },
  {
   "cell_type": "markdown",
   "id": "1ca4a7fe",
   "metadata": {},
   "source": [
    "### Unseen Questions Test Dataset"
   ]
  },
  {
   "cell_type": "code",
   "execution_count": 45,
   "id": "d8204e62",
   "metadata": {},
   "outputs": [],
   "source": [
    "test_uq = pd.read_parquet(\"Data/Beetle/data/test-uq-00001.parquet\")\n",
    "test_uq.to_csv(\"csv/beetle/test_uq.csv\", index=False)"
   ]
  },
  {
   "cell_type": "code",
   "execution_count": 46,
   "id": "69799295",
   "metadata": {},
   "outputs": [
    {
     "data": {
      "text/html": [
       "<div>\n",
       "<style scoped>\n",
       "    .dataframe tbody tr th:only-of-type {\n",
       "        vertical-align: middle;\n",
       "    }\n",
       "\n",
       "    .dataframe tbody tr th {\n",
       "        vertical-align: top;\n",
       "    }\n",
       "\n",
       "    .dataframe thead th {\n",
       "        text-align: right;\n",
       "    }\n",
       "</style>\n",
       "<table border=\"1\" class=\"dataframe\">\n",
       "  <thead>\n",
       "    <tr style=\"text-align: right;\">\n",
       "      <th></th>\n",
       "      <th>id</th>\n",
       "      <th>question</th>\n",
       "      <th>reference_answer</th>\n",
       "      <th>student_answer</th>\n",
       "      <th>label</th>\n",
       "    </tr>\n",
       "  </thead>\n",
       "  <tbody>\n",
       "    <tr>\n",
       "      <th>0</th>\n",
       "      <td>FF.Q16.SBJ10.L1.SA186</td>\n",
       "      <td>What is the relationship between the voltage r...</td>\n",
       "      <td>Voltage is the difference in electrical states...</td>\n",
       "      <td>it is the difference in voltage between the po...</td>\n",
       "      <td>0</td>\n",
       "    </tr>\n",
       "    <tr>\n",
       "      <th>1</th>\n",
       "      <td>FF.Q16.SBJ10.L1.SA187</td>\n",
       "      <td>What is the relationship between the voltage r...</td>\n",
       "      <td>Voltage is the difference in electrical states...</td>\n",
       "      <td>the difference between positive and negative</td>\n",
       "      <td>2</td>\n",
       "    </tr>\n",
       "    <tr>\n",
       "      <th>2</th>\n",
       "      <td>FF.Q16.SBJ10.L1.SA188</td>\n",
       "      <td>What is the relationship between the voltage r...</td>\n",
       "      <td>Voltage is the difference in electrical states...</td>\n",
       "      <td>the difference in voltage between the two term...</td>\n",
       "      <td>0</td>\n",
       "    </tr>\n",
       "    <tr>\n",
       "      <th>3</th>\n",
       "      <td>FF.Q16.SBJ10.L1.SA189</td>\n",
       "      <td>What is the relationship between the voltage r...</td>\n",
       "      <td>Voltage is the difference in electrical states...</td>\n",
       "      <td>one is positive and one is negative</td>\n",
       "      <td>2</td>\n",
       "    </tr>\n",
       "    <tr>\n",
       "      <th>4</th>\n",
       "      <td>FF.Q16.SBJ11.L1.SA194</td>\n",
       "      <td>What is the relationship between the voltage r...</td>\n",
       "      <td>Voltage is the difference in electrical states...</td>\n",
       "      <td>0</td>\n",
       "      <td>1</td>\n",
       "    </tr>\n",
       "  </tbody>\n",
       "</table>\n",
       "</div>"
      ],
      "text/plain": [
       "                      id                                           question  \\\n",
       "0  FF.Q16.SBJ10.L1.SA186  What is the relationship between the voltage r...   \n",
       "1  FF.Q16.SBJ10.L1.SA187  What is the relationship between the voltage r...   \n",
       "2  FF.Q16.SBJ10.L1.SA188  What is the relationship between the voltage r...   \n",
       "3  FF.Q16.SBJ10.L1.SA189  What is the relationship between the voltage r...   \n",
       "4  FF.Q16.SBJ11.L1.SA194  What is the relationship between the voltage r...   \n",
       "\n",
       "                                    reference_answer  \\\n",
       "0  Voltage is the difference in electrical states...   \n",
       "1  Voltage is the difference in electrical states...   \n",
       "2  Voltage is the difference in electrical states...   \n",
       "3  Voltage is the difference in electrical states...   \n",
       "4  Voltage is the difference in electrical states...   \n",
       "\n",
       "                                      student_answer  label  \n",
       "0  it is the difference in voltage between the po...      0  \n",
       "1       the difference between positive and negative      2  \n",
       "2  the difference in voltage between the two term...      0  \n",
       "3                one is positive and one is negative      2  \n",
       "4                                                  0      1  "
      ]
     },
     "execution_count": 46,
     "metadata": {},
     "output_type": "execute_result"
    }
   ],
   "source": [
    "test_uq.head()"
   ]
  },
  {
   "cell_type": "code",
   "execution_count": 47,
   "id": "3facdff6",
   "metadata": {},
   "outputs": [
    {
     "name": "stdout",
     "output_type": "stream",
     "text": [
      "<class 'pandas.core.frame.DataFrame'>\n",
      "RangeIndex: 819 entries, 0 to 818\n",
      "Data columns (total 5 columns):\n",
      " #   Column            Non-Null Count  Dtype \n",
      "---  ------            --------------  ----- \n",
      " 0   id                819 non-null    object\n",
      " 1   question          819 non-null    object\n",
      " 2   reference_answer  819 non-null    object\n",
      " 3   student_answer    819 non-null    object\n",
      " 4   label             819 non-null    int64 \n",
      "dtypes: int64(1), object(4)\n",
      "memory usage: 32.1+ KB\n"
     ]
    }
   ],
   "source": [
    "test_uq.info()"
   ]
  },
  {
   "cell_type": "code",
   "execution_count": 48,
   "id": "bdda61f1",
   "metadata": {},
   "outputs": [
    {
     "name": "stdout",
     "output_type": "stream",
     "text": [
      "id                  0\n",
      "question            0\n",
      "reference_answer    0\n",
      "student_answer      0\n",
      "label               0\n",
      "dtype: int64\n"
     ]
    },
    {
     "data": {
      "text/plain": [
       "0"
      ]
     },
     "execution_count": 48,
     "metadata": {},
     "output_type": "execute_result"
    }
   ],
   "source": [
    "print(test_uq.isnull().sum())\n",
    "test_uq.duplicated().sum()"
   ]
  },
  {
   "cell_type": "markdown",
   "id": "2c5a1352",
   "metadata": {},
   "source": [
    "<b>Reference dataset is not needed for this project</b>"
   ]
  },
  {
   "cell_type": "markdown",
   "id": "58528fe6",
   "metadata": {},
   "source": [
    "# SciEntsBank"
   ]
  },
  {
   "cell_type": "markdown",
   "id": "ee39a46c",
   "metadata": {},
   "source": [
    "### Train Dataset"
   ]
  },
  {
   "cell_type": "code",
   "execution_count": 49,
   "id": "a6cdffa3",
   "metadata": {},
   "outputs": [],
   "source": [
    "train_sc = pd.read_parquet(\"Data/SciEntsBank/data/train-00001.parquet\")\n",
    "train_sc.to_csv(\"csv/SciEntsBank/train_sc.csv\", index=False)"
   ]
  },
  {
   "cell_type": "code",
   "execution_count": 50,
   "id": "259aa619",
   "metadata": {},
   "outputs": [
    {
     "data": {
      "text/html": [
       "<div>\n",
       "<style scoped>\n",
       "    .dataframe tbody tr th:only-of-type {\n",
       "        vertical-align: middle;\n",
       "    }\n",
       "\n",
       "    .dataframe tbody tr th {\n",
       "        vertical-align: top;\n",
       "    }\n",
       "\n",
       "    .dataframe thead th {\n",
       "        text-align: right;\n",
       "    }\n",
       "</style>\n",
       "<table border=\"1\" class=\"dataframe\">\n",
       "  <thead>\n",
       "    <tr style=\"text-align: right;\">\n",
       "      <th></th>\n",
       "      <th>id</th>\n",
       "      <th>question</th>\n",
       "      <th>reference_answer</th>\n",
       "      <th>student_answer</th>\n",
       "      <th>label</th>\n",
       "    </tr>\n",
       "  </thead>\n",
       "  <tbody>\n",
       "    <tr>\n",
       "      <th>0</th>\n",
       "      <td>EM.45b.110.1</td>\n",
       "      <td>You used several methods to separate and ident...</td>\n",
       "      <td>The water was evaporated, leaving the salt.</td>\n",
       "      <td>By letting it sit in a dish for a day.</td>\n",
       "      <td>3</td>\n",
       "    </tr>\n",
       "    <tr>\n",
       "      <th>1</th>\n",
       "      <td>EM.45b.113.1</td>\n",
       "      <td>You used several methods to separate and ident...</td>\n",
       "      <td>The water was evaporated, leaving the salt.</td>\n",
       "      <td>Let the water evaporate and the salt is left b...</td>\n",
       "      <td>0</td>\n",
       "    </tr>\n",
       "    <tr>\n",
       "      <th>2</th>\n",
       "      <td>EM.45b.114.1</td>\n",
       "      <td>You used several methods to separate and ident...</td>\n",
       "      <td>The water was evaporated, leaving the salt.</td>\n",
       "      <td>The water evaporated and left salt crystals.</td>\n",
       "      <td>0</td>\n",
       "    </tr>\n",
       "    <tr>\n",
       "      <th>3</th>\n",
       "      <td>EM.45b.261.1</td>\n",
       "      <td>You used several methods to separate and ident...</td>\n",
       "      <td>The water was evaporated, leaving the salt.</td>\n",
       "      <td>I saw a pinkish grayish color that was blockin...</td>\n",
       "      <td>3</td>\n",
       "    </tr>\n",
       "    <tr>\n",
       "      <th>4</th>\n",
       "      <td>EM.45b.383.1</td>\n",
       "      <td>You used several methods to separate and ident...</td>\n",
       "      <td>The water was evaporated, leaving the salt.</td>\n",
       "      <td>You have to slowly tip the vial for only the w...</td>\n",
       "      <td>3</td>\n",
       "    </tr>\n",
       "  </tbody>\n",
       "</table>\n",
       "</div>"
      ],
      "text/plain": [
       "             id                                           question  \\\n",
       "0  EM.45b.110.1  You used several methods to separate and ident...   \n",
       "1  EM.45b.113.1  You used several methods to separate and ident...   \n",
       "2  EM.45b.114.1  You used several methods to separate and ident...   \n",
       "3  EM.45b.261.1  You used several methods to separate and ident...   \n",
       "4  EM.45b.383.1  You used several methods to separate and ident...   \n",
       "\n",
       "                              reference_answer  \\\n",
       "0  The water was evaporated, leaving the salt.   \n",
       "1  The water was evaporated, leaving the salt.   \n",
       "2  The water was evaporated, leaving the salt.   \n",
       "3  The water was evaporated, leaving the salt.   \n",
       "4  The water was evaporated, leaving the salt.   \n",
       "\n",
       "                                      student_answer  label  \n",
       "0             By letting it sit in a dish for a day.      3  \n",
       "1  Let the water evaporate and the salt is left b...      0  \n",
       "2       The water evaporated and left salt crystals.      0  \n",
       "3  I saw a pinkish grayish color that was blockin...      3  \n",
       "4  You have to slowly tip the vial for only the w...      3  "
      ]
     },
     "execution_count": 50,
     "metadata": {},
     "output_type": "execute_result"
    }
   ],
   "source": [
    "train_sc.head()"
   ]
  },
  {
   "cell_type": "code",
   "execution_count": 51,
   "id": "fab7d658",
   "metadata": {},
   "outputs": [
    {
     "name": "stdout",
     "output_type": "stream",
     "text": [
      "<class 'pandas.core.frame.DataFrame'>\n",
      "RangeIndex: 4969 entries, 0 to 4968\n",
      "Data columns (total 5 columns):\n",
      " #   Column            Non-Null Count  Dtype \n",
      "---  ------            --------------  ----- \n",
      " 0   id                4969 non-null   object\n",
      " 1   question          4969 non-null   object\n",
      " 2   reference_answer  4969 non-null   object\n",
      " 3   student_answer    4969 non-null   object\n",
      " 4   label             4969 non-null   int64 \n",
      "dtypes: int64(1), object(4)\n",
      "memory usage: 194.2+ KB\n"
     ]
    }
   ],
   "source": [
    "train_sc.info()"
   ]
  },
  {
   "cell_type": "code",
   "execution_count": 52,
   "id": "3b27db09",
   "metadata": {},
   "outputs": [
    {
     "name": "stdout",
     "output_type": "stream",
     "text": [
      "id                  0\n",
      "question            0\n",
      "reference_answer    0\n",
      "student_answer      0\n",
      "label               0\n",
      "dtype: int64\n"
     ]
    },
    {
     "data": {
      "text/plain": [
       "0"
      ]
     },
     "execution_count": 52,
     "metadata": {},
     "output_type": "execute_result"
    }
   ],
   "source": [
    "print(train_sc.isnull().sum())\n",
    "train_sc.duplicated().sum()"
   ]
  },
  {
   "cell_type": "markdown",
   "id": "d2fcce3a",
   "metadata": {},
   "source": [
    "### Test Unseen Answers Dataset"
   ]
  },
  {
   "cell_type": "code",
   "execution_count": 53,
   "id": "4db376b0",
   "metadata": {},
   "outputs": [],
   "source": [
    "test_sc_ua = pd.read_parquet(\"Data/SciEntsBank/data/test-ua-00001.parquet\")\n",
    "test_sc_ua.to_csv(\"csv/SciEntsBank/test_sc_ua.csv\", index=False)"
   ]
  },
  {
   "cell_type": "code",
   "execution_count": 54,
   "id": "f4dc6c23",
   "metadata": {},
   "outputs": [
    {
     "data": {
      "text/html": [
       "<div>\n",
       "<style scoped>\n",
       "    .dataframe tbody tr th:only-of-type {\n",
       "        vertical-align: middle;\n",
       "    }\n",
       "\n",
       "    .dataframe tbody tr th {\n",
       "        vertical-align: top;\n",
       "    }\n",
       "\n",
       "    .dataframe thead th {\n",
       "        text-align: right;\n",
       "    }\n",
       "</style>\n",
       "<table border=\"1\" class=\"dataframe\">\n",
       "  <thead>\n",
       "    <tr style=\"text-align: right;\">\n",
       "      <th></th>\n",
       "      <th>id</th>\n",
       "      <th>question</th>\n",
       "      <th>reference_answer</th>\n",
       "      <th>student_answer</th>\n",
       "      <th>label</th>\n",
       "    </tr>\n",
       "  </thead>\n",
       "  <tbody>\n",
       "    <tr>\n",
       "      <th>0</th>\n",
       "      <td>EM.45b.299.1</td>\n",
       "      <td>You used several methods to separate and ident...</td>\n",
       "      <td>The water was evaporated, leaving the salt.</td>\n",
       "      <td>We evaporated the water.</td>\n",
       "      <td>0</td>\n",
       "    </tr>\n",
       "    <tr>\n",
       "      <th>1</th>\n",
       "      <td>EM.45b.387.1</td>\n",
       "      <td>You used several methods to separate and ident...</td>\n",
       "      <td>The water was evaporated, leaving the salt.</td>\n",
       "      <td>We poured just the water into another thing an...</td>\n",
       "      <td>0</td>\n",
       "    </tr>\n",
       "    <tr>\n",
       "      <th>2</th>\n",
       "      <td>EM.45b.452.1</td>\n",
       "      <td>You used several methods to separate and ident...</td>\n",
       "      <td>The water was evaporated, leaving the salt.</td>\n",
       "      <td>We kept the salt in the vial and put the water...</td>\n",
       "      <td>3</td>\n",
       "    </tr>\n",
       "    <tr>\n",
       "      <th>3</th>\n",
       "      <td>EM.45b.533.1</td>\n",
       "      <td>You used several methods to separate and ident...</td>\n",
       "      <td>The water was evaporated, leaving the salt.</td>\n",
       "      <td>Get all the water out.</td>\n",
       "      <td>2</td>\n",
       "    </tr>\n",
       "    <tr>\n",
       "      <th>4</th>\n",
       "      <td>EM.45c.340.1</td>\n",
       "      <td>You used several methods to separate and ident...</td>\n",
       "      <td>The crystals were square with Xs on the surface.</td>\n",
       "      <td>Well because we broke them apart.</td>\n",
       "      <td>3</td>\n",
       "    </tr>\n",
       "  </tbody>\n",
       "</table>\n",
       "</div>"
      ],
      "text/plain": [
       "             id                                           question  \\\n",
       "0  EM.45b.299.1  You used several methods to separate and ident...   \n",
       "1  EM.45b.387.1  You used several methods to separate and ident...   \n",
       "2  EM.45b.452.1  You used several methods to separate and ident...   \n",
       "3  EM.45b.533.1  You used several methods to separate and ident...   \n",
       "4  EM.45c.340.1  You used several methods to separate and ident...   \n",
       "\n",
       "                                   reference_answer  \\\n",
       "0       The water was evaporated, leaving the salt.   \n",
       "1       The water was evaporated, leaving the salt.   \n",
       "2       The water was evaporated, leaving the salt.   \n",
       "3       The water was evaporated, leaving the salt.   \n",
       "4  The crystals were square with Xs on the surface.   \n",
       "\n",
       "                                      student_answer  label  \n",
       "0                           We evaporated the water.      0  \n",
       "1  We poured just the water into another thing an...      0  \n",
       "2  We kept the salt in the vial and put the water...      3  \n",
       "3                             Get all the water out.      2  \n",
       "4                  Well because we broke them apart.      3  "
      ]
     },
     "execution_count": 54,
     "metadata": {},
     "output_type": "execute_result"
    }
   ],
   "source": [
    "test_sc_ua.head()"
   ]
  },
  {
   "cell_type": "code",
   "execution_count": 55,
   "id": "23e0ac6b",
   "metadata": {},
   "outputs": [
    {
     "name": "stdout",
     "output_type": "stream",
     "text": [
      "<class 'pandas.core.frame.DataFrame'>\n",
      "RangeIndex: 540 entries, 0 to 539\n",
      "Data columns (total 5 columns):\n",
      " #   Column            Non-Null Count  Dtype \n",
      "---  ------            --------------  ----- \n",
      " 0   id                540 non-null    object\n",
      " 1   question          540 non-null    object\n",
      " 2   reference_answer  540 non-null    object\n",
      " 3   student_answer    540 non-null    object\n",
      " 4   label             540 non-null    int64 \n",
      "dtypes: int64(1), object(4)\n",
      "memory usage: 21.2+ KB\n"
     ]
    }
   ],
   "source": [
    "test_sc_ua.info()"
   ]
  },
  {
   "cell_type": "code",
   "execution_count": 56,
   "id": "265b7a90",
   "metadata": {},
   "outputs": [
    {
     "name": "stdout",
     "output_type": "stream",
     "text": [
      "id                  0\n",
      "question            0\n",
      "reference_answer    0\n",
      "student_answer      0\n",
      "label               0\n",
      "dtype: int64\n"
     ]
    },
    {
     "data": {
      "text/plain": [
       "0"
      ]
     },
     "execution_count": 56,
     "metadata": {},
     "output_type": "execute_result"
    }
   ],
   "source": [
    "print(test_sc_ua.isnull().sum())\n",
    "test_sc_ua.duplicated().sum()"
   ]
  },
  {
   "cell_type": "markdown",
   "id": "6c99cec8",
   "metadata": {},
   "source": [
    "### Test Unseen Dataset"
   ]
  },
  {
   "cell_type": "code",
   "execution_count": 57,
   "id": "2814a010",
   "metadata": {},
   "outputs": [],
   "source": [
    "test_sc_ud = pd.read_parquet(\"Data/SciEntsBank/data/test-ud-00001.parquet\")\n",
    "test_sc_ud.to_csv(\"csv/SciEntsBank/test_sc_ud.csv\", index=False)"
   ]
  },
  {
   "cell_type": "code",
   "execution_count": 58,
   "id": "e6a5aafb",
   "metadata": {},
   "outputs": [
    {
     "data": {
      "text/html": [
       "<div>\n",
       "<style scoped>\n",
       "    .dataframe tbody tr th:only-of-type {\n",
       "        vertical-align: middle;\n",
       "    }\n",
       "\n",
       "    .dataframe tbody tr th {\n",
       "        vertical-align: top;\n",
       "    }\n",
       "\n",
       "    .dataframe thead th {\n",
       "        text-align: right;\n",
       "    }\n",
       "</style>\n",
       "<table border=\"1\" class=\"dataframe\">\n",
       "  <thead>\n",
       "    <tr style=\"text-align: right;\">\n",
       "      <th></th>\n",
       "      <th>id</th>\n",
       "      <th>question</th>\n",
       "      <th>reference_answer</th>\n",
       "      <th>student_answer</th>\n",
       "      <th>label</th>\n",
       "    </tr>\n",
       "  </thead>\n",
       "  <tbody>\n",
       "    <tr>\n",
       "      <th>0</th>\n",
       "      <td>EV.12b.102.1</td>\n",
       "      <td>Alice planted one radish seed in each of 5 sep...</td>\n",
       "      <td>10 milliliters to 20 milliliters. The radishes...</td>\n",
       "      <td>0 to 25 milliliters, 0 to 25 milliliters becau...</td>\n",
       "      <td>1</td>\n",
       "    </tr>\n",
       "    <tr>\n",
       "      <th>1</th>\n",
       "      <td>EV.12b.103.1</td>\n",
       "      <td>Alice planted one radish seed in each of 5 sep...</td>\n",
       "      <td>10 milliliters to 20 milliliters. The radishes...</td>\n",
       "      <td>10 to 20 milliliters of water. Pot 2, 3, and 4...</td>\n",
       "      <td>0</td>\n",
       "    </tr>\n",
       "    <tr>\n",
       "      <th>2</th>\n",
       "      <td>EV.12b.105.1</td>\n",
       "      <td>Alice planted one radish seed in each of 5 sep...</td>\n",
       "      <td>10 milliliters to 20 milliliters. The radishes...</td>\n",
       "      <td>10 to 20 milliliters water, I looked at which ...</td>\n",
       "      <td>0</td>\n",
       "    </tr>\n",
       "    <tr>\n",
       "      <th>3</th>\n",
       "      <td>EV.12b.109.1</td>\n",
       "      <td>Alice planted one radish seed in each of 5 sep...</td>\n",
       "      <td>10 milliliters to 20 milliliters. The radishes...</td>\n",
       "      <td>10 to 20 milliliters of water, none grew in on...</td>\n",
       "      <td>0</td>\n",
       "    </tr>\n",
       "    <tr>\n",
       "      <th>4</th>\n",
       "      <td>EV.12b.113.1</td>\n",
       "      <td>Alice planted one radish seed in each of 5 sep...</td>\n",
       "      <td>10 milliliters to 20 milliliters. The radishes...</td>\n",
       "      <td>10 to 20 milliliters, Well in pot one nothing ...</td>\n",
       "      <td>0</td>\n",
       "    </tr>\n",
       "  </tbody>\n",
       "</table>\n",
       "</div>"
      ],
      "text/plain": [
       "             id                                           question  \\\n",
       "0  EV.12b.102.1  Alice planted one radish seed in each of 5 sep...   \n",
       "1  EV.12b.103.1  Alice planted one radish seed in each of 5 sep...   \n",
       "2  EV.12b.105.1  Alice planted one radish seed in each of 5 sep...   \n",
       "3  EV.12b.109.1  Alice planted one radish seed in each of 5 sep...   \n",
       "4  EV.12b.113.1  Alice planted one radish seed in each of 5 sep...   \n",
       "\n",
       "                                    reference_answer  \\\n",
       "0  10 milliliters to 20 milliliters. The radishes...   \n",
       "1  10 milliliters to 20 milliliters. The radishes...   \n",
       "2  10 milliliters to 20 milliliters. The radishes...   \n",
       "3  10 milliliters to 20 milliliters. The radishes...   \n",
       "4  10 milliliters to 20 milliliters. The radishes...   \n",
       "\n",
       "                                      student_answer  label  \n",
       "0  0 to 25 milliliters, 0 to 25 milliliters becau...      1  \n",
       "1  10 to 20 milliliters of water. Pot 2, 3, and 4...      0  \n",
       "2  10 to 20 milliliters water, I looked at which ...      0  \n",
       "3  10 to 20 milliliters of water, none grew in on...      0  \n",
       "4  10 to 20 milliliters, Well in pot one nothing ...      0  "
      ]
     },
     "execution_count": 58,
     "metadata": {},
     "output_type": "execute_result"
    }
   ],
   "source": [
    "test_sc_ud.head()"
   ]
  },
  {
   "cell_type": "code",
   "execution_count": 59,
   "id": "28c347a7",
   "metadata": {},
   "outputs": [
    {
     "name": "stdout",
     "output_type": "stream",
     "text": [
      "<class 'pandas.core.frame.DataFrame'>\n",
      "RangeIndex: 4562 entries, 0 to 4561\n",
      "Data columns (total 5 columns):\n",
      " #   Column            Non-Null Count  Dtype \n",
      "---  ------            --------------  ----- \n",
      " 0   id                4562 non-null   object\n",
      " 1   question          4562 non-null   object\n",
      " 2   reference_answer  4562 non-null   object\n",
      " 3   student_answer    4562 non-null   object\n",
      " 4   label             4562 non-null   int64 \n",
      "dtypes: int64(1), object(4)\n",
      "memory usage: 178.3+ KB\n"
     ]
    }
   ],
   "source": [
    "test_sc_ud.info()"
   ]
  },
  {
   "cell_type": "code",
   "execution_count": 60,
   "id": "87987171",
   "metadata": {},
   "outputs": [
    {
     "name": "stdout",
     "output_type": "stream",
     "text": [
      "id                  0\n",
      "question            0\n",
      "reference_answer    0\n",
      "student_answer      0\n",
      "label               0\n",
      "dtype: int64\n"
     ]
    },
    {
     "data": {
      "text/plain": [
       "0"
      ]
     },
     "execution_count": 60,
     "metadata": {},
     "output_type": "execute_result"
    }
   ],
   "source": [
    "print(test_sc_ud.isnull().sum())\n",
    "test_sc_ud.duplicated().sum()"
   ]
  },
  {
   "cell_type": "markdown",
   "id": "8df419b5",
   "metadata": {},
   "source": [
    "### Test Unseen Questions Dataset"
   ]
  },
  {
   "cell_type": "code",
   "execution_count": 61,
   "id": "9cff42f0",
   "metadata": {},
   "outputs": [],
   "source": [
    "test_sc_uq = pd.read_parquet(\"Data/SciEntsBank/data/test-uq-00001.parquet\")\n",
    "test_sc_uq.to_csv(\"csv/SciEntsBank/test_sc_uq.csv\", index=False)"
   ]
  },
  {
   "cell_type": "code",
   "execution_count": 62,
   "id": "ffaf34a2",
   "metadata": {},
   "outputs": [
    {
     "data": {
      "text/html": [
       "<div>\n",
       "<style scoped>\n",
       "    .dataframe tbody tr th:only-of-type {\n",
       "        vertical-align: middle;\n",
       "    }\n",
       "\n",
       "    .dataframe tbody tr th {\n",
       "        vertical-align: top;\n",
       "    }\n",
       "\n",
       "    .dataframe thead th {\n",
       "        text-align: right;\n",
       "    }\n",
       "</style>\n",
       "<table border=\"1\" class=\"dataframe\">\n",
       "  <thead>\n",
       "    <tr style=\"text-align: right;\">\n",
       "      <th></th>\n",
       "      <th>id</th>\n",
       "      <th>question</th>\n",
       "      <th>reference_answer</th>\n",
       "      <th>student_answer</th>\n",
       "      <th>label</th>\n",
       "    </tr>\n",
       "  </thead>\n",
       "  <tbody>\n",
       "    <tr>\n",
       "      <th>0</th>\n",
       "      <td>EM.33b.384.1</td>\n",
       "      <td>You used 3 scratch tools in class to test mine...</td>\n",
       "      <td>A paperclip is harder than a penny, so if a pe...</td>\n",
       "      <td>I know the paperclip would scratch it because ...</td>\n",
       "      <td>0</td>\n",
       "    </tr>\n",
       "    <tr>\n",
       "      <th>1</th>\n",
       "      <td>EM.33b.397.1</td>\n",
       "      <td>You used 3 scratch tools in class to test mine...</td>\n",
       "      <td>A paperclip is harder than a penny, so if a pe...</td>\n",
       "      <td>I knew that because the paperclip is harder th...</td>\n",
       "      <td>0</td>\n",
       "    </tr>\n",
       "    <tr>\n",
       "      <th>2</th>\n",
       "      <td>EM.33b.402.1</td>\n",
       "      <td>You used 3 scratch tools in class to test mine...</td>\n",
       "      <td>A paperclip is harder than a penny, so if a pe...</td>\n",
       "      <td>I know that the paperclip would scratch the mi...</td>\n",
       "      <td>0</td>\n",
       "    </tr>\n",
       "    <tr>\n",
       "      <th>3</th>\n",
       "      <td>EM.33b.427.1</td>\n",
       "      <td>You used 3 scratch tools in class to test mine...</td>\n",
       "      <td>A paperclip is harder than a penny, so if a pe...</td>\n",
       "      <td>Because the paperclip is an easier item to scr...</td>\n",
       "      <td>3</td>\n",
       "    </tr>\n",
       "    <tr>\n",
       "      <th>4</th>\n",
       "      <td>EM.33b.429.1</td>\n",
       "      <td>You used 3 scratch tools in class to test mine...</td>\n",
       "      <td>A paperclip is harder than a penny, so if a pe...</td>\n",
       "      <td>I know that a paperclip will scratch it becaus...</td>\n",
       "      <td>0</td>\n",
       "    </tr>\n",
       "  </tbody>\n",
       "</table>\n",
       "</div>"
      ],
      "text/plain": [
       "             id                                           question  \\\n",
       "0  EM.33b.384.1  You used 3 scratch tools in class to test mine...   \n",
       "1  EM.33b.397.1  You used 3 scratch tools in class to test mine...   \n",
       "2  EM.33b.402.1  You used 3 scratch tools in class to test mine...   \n",
       "3  EM.33b.427.1  You used 3 scratch tools in class to test mine...   \n",
       "4  EM.33b.429.1  You used 3 scratch tools in class to test mine...   \n",
       "\n",
       "                                    reference_answer  \\\n",
       "0  A paperclip is harder than a penny, so if a pe...   \n",
       "1  A paperclip is harder than a penny, so if a pe...   \n",
       "2  A paperclip is harder than a penny, so if a pe...   \n",
       "3  A paperclip is harder than a penny, so if a pe...   \n",
       "4  A paperclip is harder than a penny, so if a pe...   \n",
       "\n",
       "                                      student_answer  label  \n",
       "0  I know the paperclip would scratch it because ...      0  \n",
       "1  I knew that because the paperclip is harder th...      0  \n",
       "2  I know that the paperclip would scratch the mi...      0  \n",
       "3  Because the paperclip is an easier item to scr...      3  \n",
       "4  I know that a paperclip will scratch it becaus...      0  "
      ]
     },
     "execution_count": 62,
     "metadata": {},
     "output_type": "execute_result"
    }
   ],
   "source": [
    "test_sc_uq.head()"
   ]
  },
  {
   "cell_type": "code",
   "execution_count": 63,
   "id": "e39cf7e9",
   "metadata": {},
   "outputs": [
    {
     "name": "stdout",
     "output_type": "stream",
     "text": [
      "<class 'pandas.core.frame.DataFrame'>\n",
      "RangeIndex: 733 entries, 0 to 732\n",
      "Data columns (total 5 columns):\n",
      " #   Column            Non-Null Count  Dtype \n",
      "---  ------            --------------  ----- \n",
      " 0   id                733 non-null    object\n",
      " 1   question          733 non-null    object\n",
      " 2   reference_answer  733 non-null    object\n",
      " 3   student_answer    733 non-null    object\n",
      " 4   label             733 non-null    int64 \n",
      "dtypes: int64(1), object(4)\n",
      "memory usage: 28.8+ KB\n"
     ]
    }
   ],
   "source": [
    "test_sc_uq.info()"
   ]
  },
  {
   "cell_type": "code",
   "execution_count": 64,
   "id": "257dae5b",
   "metadata": {},
   "outputs": [
    {
     "name": "stdout",
     "output_type": "stream",
     "text": [
      "id                  0\n",
      "question            0\n",
      "reference_answer    0\n",
      "student_answer      0\n",
      "label               0\n",
      "dtype: int64\n"
     ]
    },
    {
     "data": {
      "text/plain": [
       "0"
      ]
     },
     "execution_count": 64,
     "metadata": {},
     "output_type": "execute_result"
    }
   ],
   "source": [
    "print(test_sc_uq.isnull().sum())\n",
    "test_sc_uq.duplicated().sum()"
   ]
  }
 ],
 "metadata": {
  "kernelspec": {
   "display_name": "Python (pytorch_vision)",
   "language": "python",
   "name": "pytorch_vision"
  },
  "language_info": {
   "codemirror_mode": {
    "name": "ipython",
    "version": 3
   },
   "file_extension": ".py",
   "mimetype": "text/x-python",
   "name": "python",
   "nbconvert_exporter": "python",
   "pygments_lexer": "ipython3",
   "version": "3.12.3"
  }
 },
 "nbformat": 4,
 "nbformat_minor": 5
}
