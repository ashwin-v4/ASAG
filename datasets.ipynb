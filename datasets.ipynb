{
 "cells": [
  {
   "cell_type": "code",
   "execution_count": 15,
   "id": "8e29b62c",
   "metadata": {},
   "outputs": [],
   "source": [
    "import numpy as np\n",
    "import pandas as pd\n",
    "\n",
    "import matplotlib.pyplot as plt\n",
    "import seaborn as sns"
   ]
  },
  {
   "cell_type": "markdown",
   "id": "4bf1dd56",
   "metadata": {},
   "source": [
    "<b>There are 3 datasets - UNT, Beetle and SciEntsBank for ASAG.</b>  \n",
    "- UNT is available in csv as 1 file\n",
    "- Beetle has 4 files in parquet\n",
    "- SciEntsBank has 4 files in parquet"
   ]
  },
  {
   "cell_type": "markdown",
   "id": "1410f05e",
   "metadata": {},
   "source": [
    "# Beetle"
   ]
  },
  {
   "cell_type": "markdown",
   "id": "6d4ff077",
   "metadata": {},
   "source": [
    "- Reference\n",
    "- train\n",
    "- test unseen answers\n",
    "- test unseen questions"
   ]
  },
  {
   "cell_type": "markdown",
   "id": "5d5a9430",
   "metadata": {},
   "source": [
    "### Train Dataset"
   ]
  },
  {
   "cell_type": "code",
   "execution_count": 16,
   "id": "078e2a36",
   "metadata": {},
   "outputs": [],
   "source": [
    "train_beetle = pd.read_parquet(\"Data/Beetle/data/train-00001.parquet\")\n",
    "train_beetle.to_csv(\"csv/beetle/train_beetle.csv\", index=False)"
   ]
  },
  {
   "cell_type": "code",
   "execution_count": 17,
   "id": "1bb41cb5",
   "metadata": {},
   "outputs": [
    {
     "data": {
      "text/html": [
       "<div>\n",
       "<style scoped>\n",
       "    .dataframe tbody tr th:only-of-type {\n",
       "        vertical-align: middle;\n",
       "    }\n",
       "\n",
       "    .dataframe tbody tr th {\n",
       "        vertical-align: top;\n",
       "    }\n",
       "\n",
       "    .dataframe thead th {\n",
       "        text-align: right;\n",
       "    }\n",
       "</style>\n",
       "<table border=\"1\" class=\"dataframe\">\n",
       "  <thead>\n",
       "    <tr style=\"text-align: right;\">\n",
       "      <th></th>\n",
       "      <th>id</th>\n",
       "      <th>question</th>\n",
       "      <th>reference_answer</th>\n",
       "      <th>student_answer</th>\n",
       "      <th>label</th>\n",
       "    </tr>\n",
       "  </thead>\n",
       "  <tbody>\n",
       "    <tr>\n",
       "      <th>0</th>\n",
       "      <td>FF.Q1.SBJ10.L1.SA207</td>\n",
       "      <td>Explain why you got a voltage reading of 1.5 f...</td>\n",
       "      <td>Terminal 1 and the positive terminal are separ...</td>\n",
       "      <td>because terminal one and the positive terminal...</td>\n",
       "      <td>1</td>\n",
       "    </tr>\n",
       "    <tr>\n",
       "      <th>1</th>\n",
       "      <td>FF.Q1.SBJ10.L1.SA208</td>\n",
       "      <td>Explain why you got a voltage reading of 1.5 f...</td>\n",
       "      <td>Terminal 1 and the positive terminal are separ...</td>\n",
       "      <td>because terminal one is connected to the posit...</td>\n",
       "      <td>1</td>\n",
       "    </tr>\n",
       "    <tr>\n",
       "      <th>2</th>\n",
       "      <td>FF.Q1.SBJ10.L1.SA209</td>\n",
       "      <td>Explain why you got a voltage reading of 1.5 f...</td>\n",
       "      <td>Terminal 1 and the positive terminal are separ...</td>\n",
       "      <td>because terminal one and the positive battery ...</td>\n",
       "      <td>1</td>\n",
       "    </tr>\n",
       "    <tr>\n",
       "      <th>3</th>\n",
       "      <td>FF.Q1.SBJ10.L1.SA210</td>\n",
       "      <td>Explain why you got a voltage reading of 1.5 f...</td>\n",
       "      <td>Terminal 1 and the positive terminal are separ...</td>\n",
       "      <td>because there is a gap between terminal one an...</td>\n",
       "      <td>0</td>\n",
       "    </tr>\n",
       "    <tr>\n",
       "      <th>4</th>\n",
       "      <td>FF.Q1.SBJ11.L1.SA213</td>\n",
       "      <td>Explain why you got a voltage reading of 1.5 f...</td>\n",
       "      <td>Terminal 1 and the positive terminal are separ...</td>\n",
       "      <td>termianl 1 is not connected to the positive ba...</td>\n",
       "      <td>0</td>\n",
       "    </tr>\n",
       "  </tbody>\n",
       "</table>\n",
       "</div>"
      ],
      "text/plain": [
       "                     id                                           question  \\\n",
       "0  FF.Q1.SBJ10.L1.SA207  Explain why you got a voltage reading of 1.5 f...   \n",
       "1  FF.Q1.SBJ10.L1.SA208  Explain why you got a voltage reading of 1.5 f...   \n",
       "2  FF.Q1.SBJ10.L1.SA209  Explain why you got a voltage reading of 1.5 f...   \n",
       "3  FF.Q1.SBJ10.L1.SA210  Explain why you got a voltage reading of 1.5 f...   \n",
       "4  FF.Q1.SBJ11.L1.SA213  Explain why you got a voltage reading of 1.5 f...   \n",
       "\n",
       "                                    reference_answer  \\\n",
       "0  Terminal 1 and the positive terminal are separ...   \n",
       "1  Terminal 1 and the positive terminal are separ...   \n",
       "2  Terminal 1 and the positive terminal are separ...   \n",
       "3  Terminal 1 and the positive terminal are separ...   \n",
       "4  Terminal 1 and the positive terminal are separ...   \n",
       "\n",
       "                                      student_answer  label  \n",
       "0  because terminal one and the positive terminal...      1  \n",
       "1  because terminal one is connected to the posit...      1  \n",
       "2  because terminal one and the positive battery ...      1  \n",
       "3  because there is a gap between terminal one an...      0  \n",
       "4  termianl 1 is not connected to the positive ba...      0  "
      ]
     },
     "execution_count": 17,
     "metadata": {},
     "output_type": "execute_result"
    }
   ],
   "source": [
    "train_beetle.head()"
   ]
  },
  {
   "cell_type": "code",
   "execution_count": 18,
   "id": "6e641348",
   "metadata": {},
   "outputs": [
    {
     "name": "stdout",
     "output_type": "stream",
     "text": [
      "<class 'pandas.core.frame.DataFrame'>\n",
      "RangeIndex: 3941 entries, 0 to 3940\n",
      "Data columns (total 5 columns):\n",
      " #   Column            Non-Null Count  Dtype \n",
      "---  ------            --------------  ----- \n",
      " 0   id                3941 non-null   object\n",
      " 1   question          3941 non-null   object\n",
      " 2   reference_answer  3941 non-null   object\n",
      " 3   student_answer    3941 non-null   object\n",
      " 4   label             3941 non-null   int64 \n",
      "dtypes: int64(1), object(4)\n",
      "memory usage: 154.1+ KB\n"
     ]
    }
   ],
   "source": [
    "train_beetle.info()"
   ]
  },
  {
   "cell_type": "code",
   "execution_count": 19,
   "id": "0d556ad6",
   "metadata": {},
   "outputs": [
    {
     "name": "stdout",
     "output_type": "stream",
     "text": [
      "id                  0\n",
      "question            0\n",
      "reference_answer    0\n",
      "student_answer      0\n",
      "label               0\n",
      "dtype: int64\n"
     ]
    },
    {
     "data": {
      "text/plain": [
       "0"
      ]
     },
     "execution_count": 19,
     "metadata": {},
     "output_type": "execute_result"
    }
   ],
   "source": [
    "print(train_beetle.isnull().sum())\n",
    "train_beetle.duplicated().sum()"
   ]
  },
  {
   "cell_type": "markdown",
   "id": "05e77206",
   "metadata": {},
   "source": [
    "### Unseen Answers Test Dataset"
   ]
  },
  {
   "cell_type": "code",
   "execution_count": 20,
   "id": "65b0d3f7",
   "metadata": {},
   "outputs": [],
   "source": [
    "test_ua = pd.read_parquet(\"Data/Beetle/data/test-ua-00001.parquet\")\n",
    "test_ua.to_csv(\"csv/beetle/test_ua.csv\", index=False)"
   ]
  },
  {
   "cell_type": "code",
   "execution_count": 21,
   "id": "603805ca",
   "metadata": {},
   "outputs": [
    {
     "data": {
      "text/html": [
       "<div>\n",
       "<style scoped>\n",
       "    .dataframe tbody tr th:only-of-type {\n",
       "        vertical-align: middle;\n",
       "    }\n",
       "\n",
       "    .dataframe tbody tr th {\n",
       "        vertical-align: top;\n",
       "    }\n",
       "\n",
       "    .dataframe thead th {\n",
       "        text-align: right;\n",
       "    }\n",
       "</style>\n",
       "<table border=\"1\" class=\"dataframe\">\n",
       "  <thead>\n",
       "    <tr style=\"text-align: right;\">\n",
       "      <th></th>\n",
       "      <th>id</th>\n",
       "      <th>question</th>\n",
       "      <th>reference_answer</th>\n",
       "      <th>student_answer</th>\n",
       "      <th>label</th>\n",
       "    </tr>\n",
       "  </thead>\n",
       "  <tbody>\n",
       "    <tr>\n",
       "      <th>0</th>\n",
       "      <td>FF.Q1.SBJ12.L1.SA183</td>\n",
       "      <td>Explain why you got a voltage reading of 1.5 f...</td>\n",
       "      <td>Terminal 1 and the positive terminal are separ...</td>\n",
       "      <td>The positive battery terminal is separated by ...</td>\n",
       "      <td>0</td>\n",
       "    </tr>\n",
       "    <tr>\n",
       "      <th>1</th>\n",
       "      <td>FF.Q1.SBJ26.L1.SA224</td>\n",
       "      <td>Explain why you got a voltage reading of 1.5 f...</td>\n",
       "      <td>Terminal 1 and the positive terminal are separ...</td>\n",
       "      <td>terminal one was positive</td>\n",
       "      <td>1</td>\n",
       "    </tr>\n",
       "    <tr>\n",
       "      <th>2</th>\n",
       "      <td>FF.Q1.SBJ26.L1.SA225</td>\n",
       "      <td>Explain why you got a voltage reading of 1.5 f...</td>\n",
       "      <td>Terminal 1 and the positive terminal are separ...</td>\n",
       "      <td>terminal 1 is positive</td>\n",
       "      <td>1</td>\n",
       "    </tr>\n",
       "    <tr>\n",
       "      <th>3</th>\n",
       "      <td>FF.Q1.SBJ27.L1.SA205</td>\n",
       "      <td>Explain why you got a voltage reading of 1.5 f...</td>\n",
       "      <td>Terminal 1 and the positive terminal are separ...</td>\n",
       "      <td>i have absolutely no idea</td>\n",
       "      <td>4</td>\n",
       "    </tr>\n",
       "    <tr>\n",
       "      <th>4</th>\n",
       "      <td>FF.Q1.SBJ35.L1.SA207</td>\n",
       "      <td>Explain why you got a voltage reading of 1.5 f...</td>\n",
       "      <td>Terminal 1 and the positive terminal are separ...</td>\n",
       "      <td>the terminal is separated from the positive ba...</td>\n",
       "      <td>0</td>\n",
       "    </tr>\n",
       "  </tbody>\n",
       "</table>\n",
       "</div>"
      ],
      "text/plain": [
       "                     id                                           question  \\\n",
       "0  FF.Q1.SBJ12.L1.SA183  Explain why you got a voltage reading of 1.5 f...   \n",
       "1  FF.Q1.SBJ26.L1.SA224  Explain why you got a voltage reading of 1.5 f...   \n",
       "2  FF.Q1.SBJ26.L1.SA225  Explain why you got a voltage reading of 1.5 f...   \n",
       "3  FF.Q1.SBJ27.L1.SA205  Explain why you got a voltage reading of 1.5 f...   \n",
       "4  FF.Q1.SBJ35.L1.SA207  Explain why you got a voltage reading of 1.5 f...   \n",
       "\n",
       "                                    reference_answer  \\\n",
       "0  Terminal 1 and the positive terminal are separ...   \n",
       "1  Terminal 1 and the positive terminal are separ...   \n",
       "2  Terminal 1 and the positive terminal are separ...   \n",
       "3  Terminal 1 and the positive terminal are separ...   \n",
       "4  Terminal 1 and the positive terminal are separ...   \n",
       "\n",
       "                                      student_answer  label  \n",
       "0  The positive battery terminal is separated by ...      0  \n",
       "1                          terminal one was positive      1  \n",
       "2                             terminal 1 is positive      1  \n",
       "3                          i have absolutely no idea      4  \n",
       "4  the terminal is separated from the positive ba...      0  "
      ]
     },
     "execution_count": 21,
     "metadata": {},
     "output_type": "execute_result"
    }
   ],
   "source": [
    "test_ua.head()"
   ]
  },
  {
   "cell_type": "code",
   "execution_count": 22,
   "id": "e365bb4e",
   "metadata": {},
   "outputs": [
    {
     "name": "stdout",
     "output_type": "stream",
     "text": [
      "<class 'pandas.core.frame.DataFrame'>\n",
      "RangeIndex: 439 entries, 0 to 438\n",
      "Data columns (total 5 columns):\n",
      " #   Column            Non-Null Count  Dtype \n",
      "---  ------            --------------  ----- \n",
      " 0   id                439 non-null    object\n",
      " 1   question          439 non-null    object\n",
      " 2   reference_answer  439 non-null    object\n",
      " 3   student_answer    439 non-null    object\n",
      " 4   label             439 non-null    int64 \n",
      "dtypes: int64(1), object(4)\n",
      "memory usage: 17.3+ KB\n"
     ]
    }
   ],
   "source": [
    "test_ua.info()"
   ]
  },
  {
   "cell_type": "code",
   "execution_count": 23,
   "id": "39809836",
   "metadata": {},
   "outputs": [
    {
     "name": "stdout",
     "output_type": "stream",
     "text": [
      "id                  0\n",
      "question            0\n",
      "reference_answer    0\n",
      "student_answer      0\n",
      "label               0\n",
      "dtype: int64\n"
     ]
    },
    {
     "data": {
      "text/plain": [
       "0"
      ]
     },
     "execution_count": 23,
     "metadata": {},
     "output_type": "execute_result"
    }
   ],
   "source": [
    "print(test_ua.isnull().sum())\n",
    "test_ua.duplicated().sum()"
   ]
  },
  {
   "cell_type": "markdown",
   "id": "1ca4a7fe",
   "metadata": {},
   "source": [
    "### Unseen Questions Test Dataset"
   ]
  },
  {
   "cell_type": "code",
   "execution_count": 24,
   "id": "d8204e62",
   "metadata": {},
   "outputs": [],
   "source": [
    "test_uq = pd.read_parquet(\"Data/Beetle/data/test-uq-00001.parquet\")\n",
    "test_uq.to_csv(\"csv/beetle/test_uq.csv\", index=False)"
   ]
  },
  {
   "cell_type": "code",
   "execution_count": 25,
   "id": "69799295",
   "metadata": {},
   "outputs": [
    {
     "data": {
      "text/html": [
       "<div>\n",
       "<style scoped>\n",
       "    .dataframe tbody tr th:only-of-type {\n",
       "        vertical-align: middle;\n",
       "    }\n",
       "\n",
       "    .dataframe tbody tr th {\n",
       "        vertical-align: top;\n",
       "    }\n",
       "\n",
       "    .dataframe thead th {\n",
       "        text-align: right;\n",
       "    }\n",
       "</style>\n",
       "<table border=\"1\" class=\"dataframe\">\n",
       "  <thead>\n",
       "    <tr style=\"text-align: right;\">\n",
       "      <th></th>\n",
       "      <th>id</th>\n",
       "      <th>question</th>\n",
       "      <th>reference_answer</th>\n",
       "      <th>student_answer</th>\n",
       "      <th>label</th>\n",
       "    </tr>\n",
       "  </thead>\n",
       "  <tbody>\n",
       "    <tr>\n",
       "      <th>0</th>\n",
       "      <td>FF.Q16.SBJ10.L1.SA186</td>\n",
       "      <td>What is the relationship between the voltage r...</td>\n",
       "      <td>Voltage is the difference in electrical states...</td>\n",
       "      <td>it is the difference in voltage between the po...</td>\n",
       "      <td>0</td>\n",
       "    </tr>\n",
       "    <tr>\n",
       "      <th>1</th>\n",
       "      <td>FF.Q16.SBJ10.L1.SA187</td>\n",
       "      <td>What is the relationship between the voltage r...</td>\n",
       "      <td>Voltage is the difference in electrical states...</td>\n",
       "      <td>the difference between positive and negative</td>\n",
       "      <td>2</td>\n",
       "    </tr>\n",
       "    <tr>\n",
       "      <th>2</th>\n",
       "      <td>FF.Q16.SBJ10.L1.SA188</td>\n",
       "      <td>What is the relationship between the voltage r...</td>\n",
       "      <td>Voltage is the difference in electrical states...</td>\n",
       "      <td>the difference in voltage between the two term...</td>\n",
       "      <td>0</td>\n",
       "    </tr>\n",
       "    <tr>\n",
       "      <th>3</th>\n",
       "      <td>FF.Q16.SBJ10.L1.SA189</td>\n",
       "      <td>What is the relationship between the voltage r...</td>\n",
       "      <td>Voltage is the difference in electrical states...</td>\n",
       "      <td>one is positive and one is negative</td>\n",
       "      <td>2</td>\n",
       "    </tr>\n",
       "    <tr>\n",
       "      <th>4</th>\n",
       "      <td>FF.Q16.SBJ11.L1.SA194</td>\n",
       "      <td>What is the relationship between the voltage r...</td>\n",
       "      <td>Voltage is the difference in electrical states...</td>\n",
       "      <td>0</td>\n",
       "      <td>1</td>\n",
       "    </tr>\n",
       "  </tbody>\n",
       "</table>\n",
       "</div>"
      ],
      "text/plain": [
       "                      id                                           question  \\\n",
       "0  FF.Q16.SBJ10.L1.SA186  What is the relationship between the voltage r...   \n",
       "1  FF.Q16.SBJ10.L1.SA187  What is the relationship between the voltage r...   \n",
       "2  FF.Q16.SBJ10.L1.SA188  What is the relationship between the voltage r...   \n",
       "3  FF.Q16.SBJ10.L1.SA189  What is the relationship between the voltage r...   \n",
       "4  FF.Q16.SBJ11.L1.SA194  What is the relationship between the voltage r...   \n",
       "\n",
       "                                    reference_answer  \\\n",
       "0  Voltage is the difference in electrical states...   \n",
       "1  Voltage is the difference in electrical states...   \n",
       "2  Voltage is the difference in electrical states...   \n",
       "3  Voltage is the difference in electrical states...   \n",
       "4  Voltage is the difference in electrical states...   \n",
       "\n",
       "                                      student_answer  label  \n",
       "0  it is the difference in voltage between the po...      0  \n",
       "1       the difference between positive and negative      2  \n",
       "2  the difference in voltage between the two term...      0  \n",
       "3                one is positive and one is negative      2  \n",
       "4                                                  0      1  "
      ]
     },
     "execution_count": 25,
     "metadata": {},
     "output_type": "execute_result"
    }
   ],
   "source": [
    "test_uq.head()"
   ]
  },
  {
   "cell_type": "code",
   "execution_count": 26,
   "id": "3facdff6",
   "metadata": {},
   "outputs": [
    {
     "name": "stdout",
     "output_type": "stream",
     "text": [
      "<class 'pandas.core.frame.DataFrame'>\n",
      "RangeIndex: 819 entries, 0 to 818\n",
      "Data columns (total 5 columns):\n",
      " #   Column            Non-Null Count  Dtype \n",
      "---  ------            --------------  ----- \n",
      " 0   id                819 non-null    object\n",
      " 1   question          819 non-null    object\n",
      " 2   reference_answer  819 non-null    object\n",
      " 3   student_answer    819 non-null    object\n",
      " 4   label             819 non-null    int64 \n",
      "dtypes: int64(1), object(4)\n",
      "memory usage: 32.1+ KB\n"
     ]
    }
   ],
   "source": [
    "test_uq.info()"
   ]
  },
  {
   "cell_type": "code",
   "execution_count": 27,
   "id": "bdda61f1",
   "metadata": {},
   "outputs": [
    {
     "name": "stdout",
     "output_type": "stream",
     "text": [
      "id                  0\n",
      "question            0\n",
      "reference_answer    0\n",
      "student_answer      0\n",
      "label               0\n",
      "dtype: int64\n"
     ]
    },
    {
     "data": {
      "text/plain": [
       "0"
      ]
     },
     "execution_count": 27,
     "metadata": {},
     "output_type": "execute_result"
    }
   ],
   "source": [
    "print(test_uq.isnull().sum())\n",
    "test_uq.duplicated().sum()"
   ]
  },
  {
   "cell_type": "markdown",
   "id": "2c5a1352",
   "metadata": {},
   "source": [
    "<b>Reference dataset is not needed for this project</b>"
   ]
  },
  {
   "cell_type": "markdown",
   "id": "58528fe6",
   "metadata": {},
   "source": [
    "# SciEntsBank"
   ]
  },
  {
   "cell_type": "code",
   "execution_count": null,
   "id": "a6cdffa3",
   "metadata": {},
   "outputs": [],
   "source": []
  }
 ],
 "metadata": {
  "kernelspec": {
   "display_name": "Python (pytorch_vision)",
   "language": "python",
   "name": "pytorch_vision"
  },
  "language_info": {
   "codemirror_mode": {
    "name": "ipython",
    "version": 3
   },
   "file_extension": ".py",
   "mimetype": "text/x-python",
   "name": "python",
   "nbconvert_exporter": "python",
   "pygments_lexer": "ipython3",
   "version": "3.12.3"
  }
 },
 "nbformat": 4,
 "nbformat_minor": 5
}
