{
 "cells": [
  {
   "cell_type": "code",
   "execution_count": 60,
   "id": "8e29b62c",
   "metadata": {},
   "outputs": [],
   "source": [
    "import numpy as np\n",
    "import pandas as pd\n",
    "\n",
    "import matplotlib.pyplot as plt\n",
    "import seaborn as sns"
   ]
  },
  {
   "cell_type": "markdown",
   "id": "4bf1dd56",
   "metadata": {},
   "source": [
    "<b>There are 3 datasets - UNT, Beetle and SciEntsBank for ASAG.</b>  \n",
    "- UNT is available in csv as 1 file\n",
    "- Beetle has 4 files in parquet\n",
    "- SciEntsBank has 4 files in parquet"
   ]
  },
  {
   "cell_type": "markdown",
   "id": "c0778a8f",
   "metadata": {},
   "source": [
    "SRA Corpus contains 2 datasets - Beetle and SciEntsBank datasets  \n",
    "There is University of Texas Dataset, UNT Dataset"
   ]
  },
  {
   "cell_type": "markdown",
   "id": "e7c44a70",
   "metadata": {},
   "source": [
    "# UNT Dataset"
   ]
  },
  {
   "cell_type": "code",
   "execution_count": 61,
   "id": "fbc2137b",
   "metadata": {},
   "outputs": [],
   "source": [
    "unt = pd.read_csv(\"raw data/Data.csv\")"
   ]
  },
  {
   "cell_type": "code",
   "execution_count": 62,
   "id": "38053444",
   "metadata": {},
   "outputs": [
    {
     "name": "stdout",
     "output_type": "stream",
     "text": [
      "0\n"
     ]
    },
    {
     "data": {
      "text/plain": [
       "89"
      ]
     },
     "execution_count": 62,
     "metadata": {},
     "output_type": "execute_result"
    }
   ],
   "source": [
    "print(unt.isnull().sum().sum())\n",
    "unt.duplicated().sum()"
   ]
  },
  {
   "cell_type": "code",
   "execution_count": 63,
   "id": "6b80acba",
   "metadata": {},
   "outputs": [
    {
     "name": "stdout",
     "output_type": "stream",
     "text": [
      "0\n"
     ]
    }
   ],
   "source": [
    "unt = unt.drop_duplicates()\n",
    "print(unt.duplicated().sum())\n",
    "\n",
    "unt.to_csv(\"csv data/UNT.csv\", index=False)"
   ]
  },
  {
   "cell_type": "markdown",
   "id": "1410f05e",
   "metadata": {},
   "source": [
    "# Beetle"
   ]
  },
  {
   "cell_type": "markdown",
   "id": "6d4ff077",
   "metadata": {},
   "source": [
    "- train\n",
    "- test unseen answers - ua\n",
    "- test unseen questions - uq\n",
    "- Reference (not needed)"
   ]
  },
  {
   "cell_type": "markdown",
   "id": "5d5a9430",
   "metadata": {},
   "source": [
    "### Train Dataset"
   ]
  },
  {
   "cell_type": "code",
   "execution_count": 64,
   "id": "078e2a36",
   "metadata": {},
   "outputs": [],
   "source": [
    "beetle_train = pd.read_parquet(\"raw data/Beetle/data/train-00001.parquet\")\n",
    "beetle_train.to_csv(\"csv data/beetle/train_beetle.csv\", index=False)\n",
    "\n",
    "beetle_ua = pd.read_parquet(\"raw data/Beetle/data/test-ua-00001.parquet\")\n",
    "beetle_ua.to_csv(\"csv data/beetle/test_ua.csv\", index=False)\n",
    "\n",
    "beetle_uq = pd.read_parquet(\"raw data/Beetle/data/test-uq-00001.parquet\")\n",
    "beetle_uq.to_csv(\"csv data/beetle/test_uq.csv\", index=False)"
   ]
  },
  {
   "cell_type": "code",
   "execution_count": 65,
   "id": "0d556ad6",
   "metadata": {},
   "outputs": [
    {
     "name": "stdout",
     "output_type": "stream",
     "text": [
      "0\n",
      "0\n",
      "0\n",
      "0\n",
      "0\n",
      "0\n"
     ]
    }
   ],
   "source": [
    "print(beetle_train.isnull().sum().sum())\n",
    "print(beetle_train.duplicated().sum())\n",
    "\n",
    "print(beetle_ua.isnull().sum().sum())\n",
    "print(beetle_ua.duplicated().sum())\n",
    "\n",
    "print(beetle_uq.isnull().sum().sum())\n",
    "print(beetle_uq.duplicated().sum())"
   ]
  },
  {
   "cell_type": "markdown",
   "id": "58528fe6",
   "metadata": {},
   "source": [
    "# SciEntsBank"
   ]
  },
  {
   "cell_type": "markdown",
   "id": "73bcc129",
   "metadata": {},
   "source": [
    "- train\n",
    "- test unseen answers - ua\n",
    "- test unseen questions - uq\n",
    "- test unseen domain - ud"
   ]
  },
  {
   "cell_type": "code",
   "execution_count": 66,
   "id": "4db376b0",
   "metadata": {},
   "outputs": [],
   "source": [
    "sc_train = pd.read_parquet(\"raw data/SciEntsBank/data/train-00001.parquet\")\n",
    "sc_train.to_csv(\"csv data/SciEntsBank/train_sc.csv\", index=False)\n",
    "\n",
    "sc_ua = pd.read_parquet(\"raw data/SciEntsBank/data/test-ua-00001.parquet\")\n",
    "sc_ua.to_csv(\"csv data/SciEntsBank/test_sc_ua.csv\", index=False)\n",
    "\n",
    "sc_uq = pd.read_parquet(\"raw data/SciEntsBank/data/test-uq-00001.parquet\")\n",
    "sc_uq.to_csv(\"csv data/SciEntsBank/test_sc_uq.csv\", index=False)\n",
    "\n",
    "sc_ud = pd.read_parquet(\"raw data/SciEntsBank/data/test-ud-00001.parquet\")\n",
    "sc_ud.to_csv(\"csv data/SciEntsBank/test_sc_ud.csv\", index=False)"
   ]
  },
  {
   "cell_type": "code",
   "execution_count": 67,
   "id": "87987171",
   "metadata": {},
   "outputs": [
    {
     "name": "stdout",
     "output_type": "stream",
     "text": [
      "0\n",
      "0\n",
      "0\n",
      "0\n",
      "0\n",
      "0\n",
      "0\n",
      "0\n"
     ]
    }
   ],
   "source": [
    "print(sc_train.isnull().sum().sum())\n",
    "print(sc_train.duplicated().sum())\n",
    "\n",
    "print(sc_ua.isnull().sum().sum())\n",
    "print(sc_ua.duplicated().sum())\n",
    "\n",
    "print(sc_uq.isnull().sum().sum())\n",
    "print(sc_uq.duplicated().sum())\n",
    "\n",
    "print(sc_ud.isnull().sum().sum())\n",
    "print(sc_ud.duplicated().sum())"
   ]
  },
  {
   "cell_type": "markdown",
   "id": "d325e778",
   "metadata": {},
   "source": [
    "### Rename"
   ]
  },
  {
   "cell_type": "code",
   "execution_count": 68,
   "id": "635b28ac",
   "metadata": {},
   "outputs": [],
   "source": [
    "unt = unt.rename(columns = {\"number\":\"id\", \"Questions\":\"question\", \"Answers\":\"reference_ans\", \"Texts\":\"student_ans\", \"Score\":\"score\"})"
   ]
  },
  {
   "cell_type": "code",
   "execution_count": 69,
   "id": "878fc454",
   "metadata": {},
   "outputs": [
    {
     "name": "stdout",
     "output_type": "stream",
     "text": [
      "Rename Done\n"
     ]
    }
   ],
   "source": [
    "def rename_sra(df):\n",
    "    df = df.rename(columns = {\"reference_answer\":\"reference_ans\", \"student_answer\":\"student_ans\", \"label\":\"score\"})\n",
    "    return df\n",
    "\n",
    "beetle_train = rename_sra(beetle_train)\n",
    "beetle_ua = rename_sra(beetle_ua)\n",
    "beetle_uq = rename_sra(beetle_uq)\n",
    "\n",
    "sc_train = rename_sra(sc_train)\n",
    "sc_ua = rename_sra(sc_ua)\n",
    "sc_uq = rename_sra(sc_uq)\n",
    "sc_ud = rename_sra(sc_ud)\n",
    "\n",
    "print(\"Rename Done\")"
   ]
  },
  {
   "cell_type": "code",
   "execution_count": 70,
   "id": "e75a28b6",
   "metadata": {},
   "outputs": [
    {
     "name": "stdout",
     "output_type": "stream",
     "text": [
      "Index(['id', 'question', 'reference_ans', 'student_ans', 'score'], dtype='object')\n",
      "Index(['id', 'question', 'reference_ans', 'student_ans', 'score'], dtype='object')\n",
      "Index(['id', 'question', 'reference_ans', 'student_ans', 'score'], dtype='object')\n",
      "Index(['id', 'question', 'reference_ans', 'student_ans', 'score'], dtype='object')\n",
      "Index(['id', 'question', 'reference_ans', 'student_ans', 'score'], dtype='object')\n",
      "Index(['id', 'question', 'reference_ans', 'student_ans', 'score'], dtype='object')\n",
      "Index(['id', 'question', 'reference_ans', 'student_ans', 'score'], dtype='object')\n",
      "Index(['id', 'question', 'reference_ans', 'student_ans', 'score'], dtype='object')\n"
     ]
    }
   ],
   "source": [
    "print(unt.columns)\n",
    "\n",
    "print(beetle_train.columns)\n",
    "print(sc_train.columns)\n",
    "\n",
    "print(beetle_ua.columns)\n",
    "print(beetle_uq.columns)\n",
    "\n",
    "print(sc_ua.columns)\n",
    "print(sc_uq.columns)\n",
    "print(sc_ud.columns)"
   ]
  },
  {
   "cell_type": "code",
   "execution_count": 71,
   "id": "c233617f",
   "metadata": {},
   "outputs": [
    {
     "name": "stdout",
     "output_type": "stream",
     "text": [
      "[1 0 2 4 3]\n",
      "[3 0 2 4 1]\n"
     ]
    }
   ],
   "source": [
    "print(beetle_train.score.unique())\n",
    "print(sc_train.score.unique())"
   ]
  },
  {
   "cell_type": "code",
   "execution_count": 72,
   "id": "3d5571d9",
   "metadata": {},
   "outputs": [],
   "source": [
    "sra_train = pd.concat([beetle_train, sc_train]).reset_index(drop=True)\n",
    "sra_ua = pd.concat([beetle_ua, sc_ua]).reset_index(drop=True)\n",
    "sra_uq = pd.concat([beetle_uq, sc_uq]).reset_index(drop=True)       # reset_index or ignore_index inside concat"
   ]
  },
  {
   "cell_type": "markdown",
   "id": "cbe04ce2",
   "metadata": {},
   "source": [
    "- Regression : Use UNT dataset\n",
    "- Classification : Use SRA Corpus - Beetle and SciEntsBank datasets"
   ]
  },
  {
   "cell_type": "markdown",
   "id": "fdc011cb",
   "metadata": {},
   "source": [
    "We will use classification "
   ]
  },
  {
   "cell_type": "code",
   "execution_count": 73,
   "id": "4c9a25a3",
   "metadata": {},
   "outputs": [],
   "source": [
    "train = sra_train\n",
    "val = sra_ua\n",
    "test = sra_uq"
   ]
  },
  {
   "cell_type": "code",
   "execution_count": 75,
   "id": "ad900092",
   "metadata": {},
   "outputs": [],
   "source": [
    "train.to_csv(\"data/Train.csv\", index=False)\n",
    "val.to_csv(\"data/Val.csv\", index=False)\n",
    "test.to_csv(\"data/Test.csv\", index=False)\n",
    "sc_ud.to_csv(\"data/Test UD.csv\", index=False)"
   ]
  },
  {
   "cell_type": "code",
   "execution_count": null,
   "id": "f33d55cf",
   "metadata": {},
   "outputs": [],
   "source": []
  }
 ],
 "metadata": {
  "kernelspec": {
   "display_name": "Python (pytorch_vision)",
   "language": "python",
   "name": "pytorch_vision"
  },
  "language_info": {
   "codemirror_mode": {
    "name": "ipython",
    "version": 3
   },
   "file_extension": ".py",
   "mimetype": "text/x-python",
   "name": "python",
   "nbconvert_exporter": "python",
   "pygments_lexer": "ipython3",
   "version": "3.12.3"
  }
 },
 "nbformat": 4,
 "nbformat_minor": 5
}
